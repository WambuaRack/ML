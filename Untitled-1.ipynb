{
 "cells": [
  {
   "cell_type": "code",
   "execution_count": 45,
   "metadata": {},
   "outputs": [],
   "source": [
    "import pandas as pd\n",
    "import matplotlib.pyplot as plt \n",
    "%matplotlib inline\n",
    "from sklearn.linear_model import LinearRegression\n",
    "from sklearn.preprocessing import LabelEncoder,OneHotEncoder"
   ]
  },
  {
   "cell_type": "code",
   "execution_count": 46,
   "metadata": {},
   "outputs": [
    {
     "data": {
      "text/html": [
       "<div>\n",
       "<style scoped>\n",
       "    .dataframe tbody tr th:only-of-type {\n",
       "        vertical-align: middle;\n",
       "    }\n",
       "\n",
       "    .dataframe tbody tr th {\n",
       "        vertical-align: top;\n",
       "    }\n",
       "\n",
       "    .dataframe thead th {\n",
       "        text-align: right;\n",
       "    }\n",
       "</style>\n",
       "<table border=\"1\" class=\"dataframe\">\n",
       "  <thead>\n",
       "    <tr style=\"text-align: right;\">\n",
       "      <th></th>\n",
       "      <th>Name</th>\n",
       "      <th>Family</th>\n",
       "      <th>Where Found</th>\n",
       "      <th>Harmful to Humans</th>\n",
       "    </tr>\n",
       "  </thead>\n",
       "  <tbody>\n",
       "    <tr>\n",
       "      <th>0</th>\n",
       "      <td>Escherichia coli</td>\n",
       "      <td>Enterobacteriaceae</td>\n",
       "      <td>Intestinal tract</td>\n",
       "      <td>Yes</td>\n",
       "    </tr>\n",
       "    <tr>\n",
       "      <th>1</th>\n",
       "      <td>Staphylococcus aureus</td>\n",
       "      <td>Staphylococcaceae</td>\n",
       "      <td>Skin, nasal passages</td>\n",
       "      <td>Yes</td>\n",
       "    </tr>\n",
       "    <tr>\n",
       "      <th>2</th>\n",
       "      <td>Lactobacillus acidophilus</td>\n",
       "      <td>Lactobacillaceae</td>\n",
       "      <td>Human mouth &amp; intestine</td>\n",
       "      <td>No</td>\n",
       "    </tr>\n",
       "    <tr>\n",
       "      <th>3</th>\n",
       "      <td>Bacillus subtilis</td>\n",
       "      <td>Bacillaceae</td>\n",
       "      <td>Soil</td>\n",
       "      <td>No</td>\n",
       "    </tr>\n",
       "    <tr>\n",
       "      <th>4</th>\n",
       "      <td>Clostridium botulinum</td>\n",
       "      <td>Clostridiaceae</td>\n",
       "      <td>Soil, improperly canned foods</td>\n",
       "      <td>Yes</td>\n",
       "    </tr>\n",
       "    <tr>\n",
       "      <th>...</th>\n",
       "      <td>...</td>\n",
       "      <td>...</td>\n",
       "      <td>...</td>\n",
       "      <td>...</td>\n",
       "    </tr>\n",
       "    <tr>\n",
       "      <th>194</th>\n",
       "      <td>Rathayibacter toxicus</td>\n",
       "      <td>Microbacteriaceae</td>\n",
       "      <td>Infected grasses</td>\n",
       "      <td>Yes</td>\n",
       "    </tr>\n",
       "    <tr>\n",
       "      <th>195</th>\n",
       "      <td>Simonsiella muelleri</td>\n",
       "      <td>Simonsiellaceae</td>\n",
       "      <td>Animal mucous membranes</td>\n",
       "      <td>No</td>\n",
       "    </tr>\n",
       "    <tr>\n",
       "      <th>196</th>\n",
       "      <td>Tepidimonas arfidensis</td>\n",
       "      <td>Comamonadaceae</td>\n",
       "      <td>Thermal springs</td>\n",
       "      <td>No</td>\n",
       "    </tr>\n",
       "    <tr>\n",
       "      <th>197</th>\n",
       "      <td>Ulvibacter litoralis</td>\n",
       "      <td>Flavobacteriaceae</td>\n",
       "      <td>Marine environments</td>\n",
       "      <td>No</td>\n",
       "    </tr>\n",
       "    <tr>\n",
       "      <th>198</th>\n",
       "      <td>Vibrio vulnificus</td>\n",
       "      <td>Vibrionaceae</td>\n",
       "      <td>Marine environments</td>\n",
       "      <td>Yes</td>\n",
       "    </tr>\n",
       "  </tbody>\n",
       "</table>\n",
       "<p>199 rows × 4 columns</p>\n",
       "</div>"
      ],
      "text/plain": [
       "                          Name              Family  \\\n",
       "0             Escherichia coli  Enterobacteriaceae   \n",
       "1        Staphylococcus aureus   Staphylococcaceae   \n",
       "2    Lactobacillus acidophilus    Lactobacillaceae   \n",
       "3            Bacillus subtilis         Bacillaceae   \n",
       "4        Clostridium botulinum      Clostridiaceae   \n",
       "..                         ...                 ...   \n",
       "194      Rathayibacter toxicus   Microbacteriaceae   \n",
       "195       Simonsiella muelleri     Simonsiellaceae   \n",
       "196     Tepidimonas arfidensis      Comamonadaceae   \n",
       "197       Ulvibacter litoralis   Flavobacteriaceae   \n",
       "198          Vibrio vulnificus        Vibrionaceae   \n",
       "\n",
       "                       Where Found Harmful to Humans  \n",
       "0                 Intestinal tract               Yes  \n",
       "1             Skin, nasal passages               Yes  \n",
       "2          Human mouth & intestine                No  \n",
       "3                             Soil                No  \n",
       "4    Soil, improperly canned foods               Yes  \n",
       "..                             ...               ...  \n",
       "194               Infected grasses               Yes  \n",
       "195        Animal mucous membranes                No  \n",
       "196                Thermal springs                No  \n",
       "197            Marine environments                No  \n",
       "198            Marine environments               Yes  \n",
       "\n",
       "[199 rows x 4 columns]"
      ]
     },
     "execution_count": 46,
     "metadata": {},
     "output_type": "execute_result"
    }
   ],
   "source": [
    "data=pd.read_csv(\"bacteria_list_200.csv\")\n",
    "data"
   ]
  },
  {
   "cell_type": "markdown",
   "metadata": {},
   "source": []
  },
  {
   "cell_type": "code",
   "execution_count": 47,
   "metadata": {},
   "outputs": [],
   "source": [
    "\n",
    "\n",
    "data[\"Harmful to Humans\"]=(data[\"Harmful to Humans\"]==\"Yes\").astype(int)"
   ]
  },
  {
   "cell_type": "code",
   "execution_count": 48,
   "metadata": {},
   "outputs": [
    {
     "data": {
      "text/html": [
       "<div>\n",
       "<style scoped>\n",
       "    .dataframe tbody tr th:only-of-type {\n",
       "        vertical-align: middle;\n",
       "    }\n",
       "\n",
       "    .dataframe tbody tr th {\n",
       "        vertical-align: top;\n",
       "    }\n",
       "\n",
       "    .dataframe thead th {\n",
       "        text-align: right;\n",
       "    }\n",
       "</style>\n",
       "<table border=\"1\" class=\"dataframe\">\n",
       "  <thead>\n",
       "    <tr style=\"text-align: right;\">\n",
       "      <th></th>\n",
       "      <th>Name</th>\n",
       "      <th>Family</th>\n",
       "      <th>Where Found</th>\n",
       "      <th>Harmful to Humans</th>\n",
       "    </tr>\n",
       "  </thead>\n",
       "  <tbody>\n",
       "    <tr>\n",
       "      <th>0</th>\n",
       "      <td>Escherichia coli</td>\n",
       "      <td>Enterobacteriaceae</td>\n",
       "      <td>Intestinal tract</td>\n",
       "      <td>1</td>\n",
       "    </tr>\n",
       "    <tr>\n",
       "      <th>1</th>\n",
       "      <td>Staphylococcus aureus</td>\n",
       "      <td>Staphylococcaceae</td>\n",
       "      <td>Skin, nasal passages</td>\n",
       "      <td>1</td>\n",
       "    </tr>\n",
       "    <tr>\n",
       "      <th>2</th>\n",
       "      <td>Lactobacillus acidophilus</td>\n",
       "      <td>Lactobacillaceae</td>\n",
       "      <td>Human mouth &amp; intestine</td>\n",
       "      <td>0</td>\n",
       "    </tr>\n",
       "    <tr>\n",
       "      <th>3</th>\n",
       "      <td>Bacillus subtilis</td>\n",
       "      <td>Bacillaceae</td>\n",
       "      <td>Soil</td>\n",
       "      <td>0</td>\n",
       "    </tr>\n",
       "    <tr>\n",
       "      <th>4</th>\n",
       "      <td>Clostridium botulinum</td>\n",
       "      <td>Clostridiaceae</td>\n",
       "      <td>Soil, improperly canned foods</td>\n",
       "      <td>1</td>\n",
       "    </tr>\n",
       "    <tr>\n",
       "      <th>...</th>\n",
       "      <td>...</td>\n",
       "      <td>...</td>\n",
       "      <td>...</td>\n",
       "      <td>...</td>\n",
       "    </tr>\n",
       "    <tr>\n",
       "      <th>194</th>\n",
       "      <td>Rathayibacter toxicus</td>\n",
       "      <td>Microbacteriaceae</td>\n",
       "      <td>Infected grasses</td>\n",
       "      <td>1</td>\n",
       "    </tr>\n",
       "    <tr>\n",
       "      <th>195</th>\n",
       "      <td>Simonsiella muelleri</td>\n",
       "      <td>Simonsiellaceae</td>\n",
       "      <td>Animal mucous membranes</td>\n",
       "      <td>0</td>\n",
       "    </tr>\n",
       "    <tr>\n",
       "      <th>196</th>\n",
       "      <td>Tepidimonas arfidensis</td>\n",
       "      <td>Comamonadaceae</td>\n",
       "      <td>Thermal springs</td>\n",
       "      <td>0</td>\n",
       "    </tr>\n",
       "    <tr>\n",
       "      <th>197</th>\n",
       "      <td>Ulvibacter litoralis</td>\n",
       "      <td>Flavobacteriaceae</td>\n",
       "      <td>Marine environments</td>\n",
       "      <td>0</td>\n",
       "    </tr>\n",
       "    <tr>\n",
       "      <th>198</th>\n",
       "      <td>Vibrio vulnificus</td>\n",
       "      <td>Vibrionaceae</td>\n",
       "      <td>Marine environments</td>\n",
       "      <td>1</td>\n",
       "    </tr>\n",
       "  </tbody>\n",
       "</table>\n",
       "<p>199 rows × 4 columns</p>\n",
       "</div>"
      ],
      "text/plain": [
       "                          Name              Family  \\\n",
       "0             Escherichia coli  Enterobacteriaceae   \n",
       "1        Staphylococcus aureus   Staphylococcaceae   \n",
       "2    Lactobacillus acidophilus    Lactobacillaceae   \n",
       "3            Bacillus subtilis         Bacillaceae   \n",
       "4        Clostridium botulinum      Clostridiaceae   \n",
       "..                         ...                 ...   \n",
       "194      Rathayibacter toxicus   Microbacteriaceae   \n",
       "195       Simonsiella muelleri     Simonsiellaceae   \n",
       "196     Tepidimonas arfidensis      Comamonadaceae   \n",
       "197       Ulvibacter litoralis   Flavobacteriaceae   \n",
       "198          Vibrio vulnificus        Vibrionaceae   \n",
       "\n",
       "                       Where Found  Harmful to Humans  \n",
       "0                 Intestinal tract                  1  \n",
       "1             Skin, nasal passages                  1  \n",
       "2          Human mouth & intestine                  0  \n",
       "3                             Soil                  0  \n",
       "4    Soil, improperly canned foods                  1  \n",
       "..                             ...                ...  \n",
       "194               Infected grasses                  1  \n",
       "195        Animal mucous membranes                  0  \n",
       "196                Thermal springs                  0  \n",
       "197            Marine environments                  0  \n",
       "198            Marine environments                  1  \n",
       "\n",
       "[199 rows x 4 columns]"
      ]
     },
     "execution_count": 48,
     "metadata": {},
     "output_type": "execute_result"
    }
   ],
   "source": [
    "\n",
    "data"
   ]
  },
  {
   "cell_type": "code",
   "execution_count": null,
   "metadata": {},
   "outputs": [],
   "source": []
  },
  {
   "cell_type": "code",
   "execution_count": 49,
   "metadata": {},
   "outputs": [],
   "source": [
    "import pandas as pd\n",
    "from sklearn.model_selection import train_test_split\n",
    "\n",
    "# Load the data\n",
    "data = pd.read_csv(\"bacteria_list_200.csv\")  # Make sure to use the correct path to your CSV file\n",
    "\n",
    "# Prepare your features (X) and target (y)\n",
    "X = data.drop('Harmful to Humans', axis=1)\n",
    "y = data['Harmful to Humans']\n",
    "\n",
    "# Split data into train and test sets\n",
    "X_train, X_test, y_train, y_test = train_test_split(X, y, test_size=0.2, random_state=42)\n",
    "\n",
    "\n",
    "# Now X_train, X_test, y_train, and y_test are ready for further analysis, like training a machine learning model.\n"
   ]
  },
  {
   "cell_type": "code",
   "execution_count": 50,
   "metadata": {},
   "outputs": [],
   "source": [
    "from sklearn.model_selection import train_test_split\n",
    "\n",
    "X_train, X_test, y_train, y_test = train_test_split(X, y, test_size=0.2, random_state=42)"
   ]
  },
  {
   "cell_type": "code",
   "execution_count": 51,
   "metadata": {},
   "outputs": [
    {
     "data": {
      "image/png": "[encoded data removed]",
      "text/plain": [
       "<Figure size 640x480 with 1 Axes>"
      ]
     },
     "metadata": {},
     "output_type": "display_data"
    },
    {
     "data": {
      "image/png": "[encoded data removed]",
      "text/plain": [
       "<Figure size 640x480 with 1 Axes>"
      ]
     },
     "metadata": {},
     "output_type": "display_data"
    },
    {
     "data": {
      "image/png": "[encoded data removed]",
      "text/plain": [
       "<Figure size 640x480 with 1 Axes>"
      ]
     },
     "metadata": {},
     "output_type": "display_data"
    }
   ],
   "source": [
    "for i in range(len(data.columns[:-1])):\n",
    "    label=data.columns[i]\n",
    "    plt.hist(data[data[\"Harmful to Humans\"]==\"Yes\"] [label] ,color='blue', label='Harmful', alpha =0.7)\n",
    "    plt.hist(data[data[\"Harmful to Humans\"]==\"No\"] [label] ,color='Red', label='Not Harmful', alpha =0.7)\n",
    "    plt.title=\"trial\"\n",
    "    plt.ylabel ='N'\n",
    "    plt.xlabel=label\n",
    "    plt.legend()\n",
    "    plt.show()"
   ]
  },
  {
   "cell_type": "code",
   "execution_count": 52,
   "metadata": {},
   "outputs": [
    {
     "data": {
      "text/plain": [
       "0      2\n",
       "1      2\n",
       "2      1\n",
       "3      1\n",
       "4      2\n",
       "      ..\n",
       "194    2\n",
       "195    1\n",
       "196    1\n",
       "197    1\n",
       "198    2\n",
       "Name: Harmful to Humans, Length: 199, dtype: object"
      ]
     },
     "execution_count": 52,
     "metadata": {},
     "output_type": "execute_result"
    }
   ],
   "source": [
    "labelencoder = LabelEncoder()\n",
    "onehotencoder = OneHotEncoder()\n",
    "\n",
    "y[:,]=labelencoder.fit_transform (y[:,])\n",
    "\n",
    "y\n"
   ]
  }
 ],
 "metadata": {
  "kernelspec": {
   "display_name": "Python 3",
   "language": "python",
   "name": "python3"
  },
  "language_info": {
   "codemirror_mode": {
    "name": "ipython",
    "version": 3
   },
   "file_extension": ".py",
   "mimetype": "text/x-python",
   "name": "python",
   "nbconvert_exporter": "python",
   "pygments_lexer": "ipython3",
   "version": "3.12.2"
  }
 },
 "nbformat": 4,
 "nbformat_minor": 2
}
